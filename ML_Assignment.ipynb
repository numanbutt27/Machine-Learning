{
  "nbformat": 4,
  "nbformat_minor": 0,
  "metadata": {
    "colab": {
      "provenance": [],
      "collapsed_sections": []
    },
    "kernelspec": {
      "name": "python3",
      "display_name": "Python 3"
    },
    "language_info": {
      "name": "python"
    }
  },
  "cells": [
    {
      "cell_type": "code",
      "execution_count": null,
      "metadata": {
        "id": "UMqy-fB2Je8H"
      },
      "outputs": [],
      "source": [
        "import numpy as np\n",
        "#PART 1\n",
        "#By using For Loop\n",
        "myarray=[[1,2],[3,4],[5,6],[7,8],[9,10]];\n",
        "arr=[];\n",
        "for i in range(len(myarray)):\n",
        "  for j in range(len(myarray[i])):\n",
        "    dist=((myarray[0][1]-myarray[0][0])**2+(myarray[1][1]-myarray[1][0])**2+(myarray[2][1]-myarray[2][0])**2+(myarray[3][1]-myarray[3][0])**2+(myarray[4][1]-myarray[4][0])**2)**0.5;\n",
        "print(dist);\n",
        "arr.append(dist);\n",
        "print(\"-------------------\");\n",
        "#PART 2\n",
        "#By using Vactorization\n",
        "x = np.random.normal(size=(30,2))\n",
        "from scipy.spatial import distance_matrix\n",
        "dist1=distance_matrix(x,x);\n",
        "print(dist1);\n",
        "#PART 3\n",
        "print(\"Time Complexity For Vactorization:\");\n",
        "%timeit dist1;\n",
        "print(\"Time Complexity For Loops:\");\n",
        "%timeit arr.append(dist);\n",
        "\n",
        "\n"
      ]
    },
    {
      "cell_type": "code",
      "source": [],
      "metadata": {
        "id": "JcSo3DxjCwca"
      },
      "execution_count": null,
      "outputs": []
    }
  ]
}